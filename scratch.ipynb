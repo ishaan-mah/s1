{
 "cells": [
  {
   "cell_type": "code",
   "execution_count": 2,
   "id": "9d0badb9",
   "metadata": {},
   "outputs": [
    {
     "name": "stderr",
     "output_type": "stream",
     "text": [
      "/user/im2735/.conda/envs/causal/lib/python3.10/site-packages/tqdm/auto.py:21: TqdmWarning: IProgress not found. Please update jupyter and ipywidgets. See https://ipywidgets.readthedocs.io/en/stable/user_install.html\n",
      "  from .autonotebook import tqdm as notebook_tqdm\n",
      "Loading checkpoint shards: 100%|██████████| 17/17 [00:41<00:00,  2.46s/it]\n",
      "Loading checkpoint shards: 100%|██████████| 29/29 [00:32<00:00,  1.13s/it]\n"
     ]
    },
    {
     "name": "stdout",
     "output_type": "stream",
     "text": [
      "🔍 Changed layers: 770\n",
      "model.embed_tokens.weight\n",
      "model.layers.0.self_attn.q_proj.weight\n",
      "model.layers.0.self_attn.q_proj.bias\n",
      "model.layers.0.self_attn.k_proj.weight\n",
      "model.layers.0.self_attn.k_proj.bias\n",
      "model.layers.0.self_attn.v_proj.weight\n",
      "model.layers.0.self_attn.v_proj.bias\n",
      "model.layers.0.self_attn.o_proj.weight\n",
      "model.layers.0.mlp.gate_proj.weight\n",
      "model.layers.0.mlp.up_proj.weight\n"
     ]
    }
   ],
   "source": [
    "import torch\n",
    "from transformers import AutoModelForCausalLM\n",
    "\n",
    "# Load base model\n",
    "base_model = AutoModelForCausalLM.from_pretrained(\"/shared/share_mala/Ishaan/cache/qwen-s1/models--Qwen--Qwen2.5-32B-Instruct/snapshots/5ede1c97bbab6ce5cda5812749b4c0bdf79b18dd/\", torch_dtype=torch.float16)\n",
    "# Load fine-tuned model\n",
    "ft_model = AutoModelForCausalLM.from_pretrained(\"/shared/share_mala/Ishaan/finetuned_model/qwen-s1k_mixed/merged/\", torch_dtype=torch.float16)\n",
    "\n",
    "# Compare a few layers\n",
    "with torch.no_grad():\n",
    "    changes = []\n",
    "    for name, base_param in base_model.named_parameters():\n",
    "        ft_param = dict(ft_model.named_parameters())[name]\n",
    "        if not torch.allclose(base_param, ft_param, atol=1e-4):\n",
    "            changes.append(name)\n",
    "    print(f\"🔍 Changed layers: {len(changes)}\")\n",
    "    print(\"\\n\".join(changes[:10]))  # print first 10\n",
    "\n",
    "    if len(changes) == 0:\n",
    "        print(\"❗ No changes detected: fine-tuned weights identical to base model.\")\n"
   ]
  }
 ],
 "metadata": {
  "kernelspec": {
   "display_name": "causal",
   "language": "python",
   "name": "python3"
  },
  "language_info": {
   "codemirror_mode": {
    "name": "ipython",
    "version": 3
   },
   "file_extension": ".py",
   "mimetype": "text/x-python",
   "name": "python",
   "nbconvert_exporter": "python",
   "pygments_lexer": "ipython3",
   "version": "3.10.18"
  }
 },
 "nbformat": 4,
 "nbformat_minor": 5
}
